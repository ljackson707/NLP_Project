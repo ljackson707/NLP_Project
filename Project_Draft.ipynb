{
 "cells": [
  {
   "cell_type": "code",
   "execution_count": 1,
   "metadata": {},
   "outputs": [],
   "source": [
    "import os\n",
    "import json\n",
    "from typing import Dict, List, Optional, Union, cast\n",
    "import requests\n",
    "import acquire\n",
    "from requests import get\n",
    "import bs4"
   ]
  },
  {
   "cell_type": "code",
   "execution_count": 2,
   "metadata": {},
   "outputs": [
    {
     "data": {
      "text/plain": [
       "[{'repo': 'r-spacex/SpaceX-API',\n",
       "  'language': 'JavaScript',\n",
       "  'readme_contents': '<p align=\"center\"><img src=\"https://live.staticflickr.com/65535/49185149122_37f5c52e43_k.jpg\"></p>\\n\\n<h1 align=\"center\">SpaceX REST API</h1>\\n\\n<h3 align=\"center\">\\nOpen Source REST API for launch, rocket, core, capsule, starlink, launchpad, and landing pad data.\\n</h3>\\n\\n<p align=\"center\">\\n<a href=\"https://github.com/r-spacex/SpaceX-API/actions?query=workflow%3ATest\"><img src=\"https://img.shields.io/github/workflow/status/r-spacex/SpaceX-API/Test?style=flat-square\"></a>\\n<a href=\"https://hub.docker.com/r/jakewmeyer/spacex-api/\"><img src=\"https://img.shields.io/docker/pulls/jakewmeyer/spacex-api?style=flat-square\"></a>\\n<a href=\"https://github.com/r-spacex/SpaceX-API/releases\"><img src=\"https://img.shields.io/github/release/r-spacex/SpaceX-API.svg?longCache=true&style=flat-square\"></a>\\n<a href=\"https://en.wikipedia.org/wiki/Representational_state_transfer\"><img src=\"https://img.shields.io/badge/interface-REST-brightgreen.svg?longCache=true&style=flat-square\"></a>\\n</p>\\n\\n<h4 align=\"center\">\\n  <i>\\n    We are not affiliated, associated, authorized, endorsed by, or in any way officially connected with Space Exploration Technologies Corp (SpaceX), or any of its subsidiaries or its affiliates. The names SpaceX as well as related names, marks, emblems and images are registered trademarks of their respective owners.\\n  </i>\\n</h4>\\n\\n<h3 align=\"center\">\\n<a href=\"docs/v4/README.md\">Docs</a> - <a href=\"docs/clients.md\">API Clients</a> - <a href=\"docs/apps.md\">Apps</a> - <a href=\"https://status.spacexdata.com\">Status</a> - <a href=\"https://backups.spacexdata.com\">Database Dumps</a>\\n<br/>\\n</h3>\\n\\n## Usage\\n\\n```http\\nGET https://api.spacexdata.com/v4/launches/latest\\n```\\n\\n```json\\n{\\n  \"fairings\": null,\\n  \"links\": {\\n    \"patch\": {\\n      \"small\": \"https://images2.imgbox.com/eb/0f/Vev7xkUX_o.png\",\\n      \"large\": \"https://images2.imgbox.com/ab/79/Wyc9K7fv_o.png\"\\n    },\\n    \"reddit\": {\\n      \"campaign\": \"https://www.reddit.com/r/spacex/comments/fjf6rr/dm2_launch_campaign_thread/\",\\n      \"launch\": \"https://www.reddit.com/r/spacex/comments/glwz6n/rspacex_cctcap_demonstration_mission_2_general\",\\n      \"media\": \"https://www.reddit.com/r/spacex/comments/gp1gf5/rspacex_dm2_media_thread_photographer_contest/\",\\n      \"recovery\": \"https://www.reddit.com/r/spacex/comments/gu5gkd/cctcap_demonstration_mission_2_stage_1_recovery/\"\\n    },\\n    \"flickr\": {\\n      \"small\": [],\\n      \"original\": [\\n        \"https://live.staticflickr.com/65535/49927519643_b43c6d4c44_o.jpg\",\\n        \"https://live.staticflickr.com/65535/49927519588_8a39a3994f_o.jpg\",\\n        \"https://live.staticflickr.com/65535/49928343022_6fb33cbd9c_o.jpg\",\\n        \"https://live.staticflickr.com/65535/49934168858_cacb00d790_o.jpg\",\\n        \"https://live.staticflickr.com/65535/49934682271_fd6a31becc_o.jpg\",\\n        \"https://live.staticflickr.com/65535/49956109906_f88d815772_o.jpg\",\\n        \"https://live.staticflickr.com/65535/49956109706_cffa847208_o.jpg\",\\n        \"https://live.staticflickr.com/65535/49956109671_859b323ede_o.jpg\",\\n        \"https://live.staticflickr.com/65535/49955609618_4cca01d581_o.jpg\",\\n        \"https://live.staticflickr.com/65535/49956396622_975c116b71_o.jpg\",\\n        \"https://live.staticflickr.com/65535/49955609378_9b77e5c771_o.jpg\",\\n        \"https://live.staticflickr.com/65535/49956396262_ef41c1d9b0_o.jpg\"\\n      ]\\n    },\\n    \"presskit\": \"https://www.nasa.gov/sites/default/files/atoms/files/commercialcrew_press_kit.pdf\",\\n    \"webcast\": \"https://youtu.be/xY96v0OIcK4\",\\n    \"youtube_id\": \"xY96v0OIcK4\",\\n    \"article\": \"https://spaceflightnow.com/2020/05/30/nasa-astronauts-launch-from-us-soil-for-first-time-in-nine-years/\",\\n    \"wikipedia\": \"https://en.wikipedia.org/wiki/Crew_Dragon_Demo-2\"\\n  },\\n  \"static_fire_date_utc\": \"2020-05-22T17:39:00.000Z\",\\n  \"static_fire_date_unix\": 1590169140,\\n  \"tdb\": false,\\n  \"net\": false,\\n  \"window\": 0,\\n  \"rocket\": \"5e9d0d95eda69973a809d1ec\",\\n  \"success\": true,\\n  \"failures\": [],\\n  \"details\": \"SpaceX will launch the second demonstration mission of its Crew Dragon vehicle as part of NASA\\'s Commercial Crew Transportation Capability Program (CCtCap), carrying two NASA astronauts to the International Space Station. Barring unexpected developments, this mission will be the first crewed flight to launch from the United States since the end of the Space Shuttle program in 2011. DM-2 demonstrates the Falcon 9 and Crew Dragon\\'s ability to safely transport crew to the space station and back to Earth and it is the last major milestone for certification of Crew Dragon. Initially the mission duration was planned to be no longer than two weeks, however NASA has been considering an extension to as much as six weeks or three months. The astronauts have been undergoing additional training for the possible longer mission.\",\\n  \"crew\": [\\n    \"5ebf1b7323a9a60006e03a7b\",\\n    \"5ebf1a6e23a9a60006e03a7a\"\\n  ],\\n  \"ships\": [\\n    \"5ea6ed30080df4000697c913\",\\n    \"5ea6ed2f080df4000697c90b\",\\n    \"5ea6ed2f080df4000697c90c\",\\n    \"5ea6ed2e080df4000697c909\",\\n    \"5ea6ed2f080df4000697c90d\"\\n  ],\\n  \"capsules\": [\\n    \"5e9e2c5df359188aba3b2676\"\\n  ],\\n  \"payloads\": [\\n    \"5eb0e4d1b6c3bb0006eeb257\"\\n  ],\\n  \"launchpad\": \"5e9e4502f509094188566f88\",\\n  \"auto_update\": true,\\n  \"flight_number\": 94,\\n  \"name\": \"CCtCap Demo Mission 2\",\\n  \"date_utc\": \"2020-05-30T19:22:00.000Z\",\\n  \"date_unix\": 1590866520,\\n  \"date_local\": \"2020-05-30T15:22:00-04:00\",\\n  \"date_precision\": \"hour\",\\n  \"upcoming\": false,\\n  \"cores\": [\\n    {\\n      \"core\": \"5e9e28a7f3591817f23b2663\",\\n      \"flight\": 1,\\n      \"gridfins\": true,\\n      \"legs\": true,\\n      \"reused\": false,\\n      \"landing_attempt\": true,\\n      \"landing_success\": true,\\n      \"landing_type\": \"ASDS\",\\n      \"landpad\": \"5e9e3032383ecb6bb234e7ca\"\\n    }\\n  ],\\n  \"id\": \"5eb87d46ffd86e000604b388\"\\n}\\n```\\n\\n## Cron Job Status\\n\\n<p align=\"left\">\\n<img src=\"https://healthchecks.io/badge/a99e6369-9795-417e-9a1c-31ea91/zDDqPvw1-2/Capsules.svg\">\\n<br/>\\n<img src=\"https://healthchecks.io/badge/a99e6369-9795-417e-9a1c-31ea91/iJIWcg9u-2/Cores.svg\">\\n<br/>\\n<img src=\"https://healthchecks.io/badge/a99e6369-9795-417e-9a1c-31ea91/soA1Z2t1-2/Landpads.svg\">\\n<br/>\\n<img src=\"https://healthchecks.io/badge/a99e6369-9795-417e-9a1c-31ea91/tc7aK4Iw-2/Launchpads.svg\">\\n<br/>\\n<img src=\"https://healthchecks.io/badge/a99e6369-9795-417e-9a1c-31ea91/uB7PIyUo-2/Past-Launches.svg\">\\n<br/>\\n<img src=\"https://healthchecks.io/badge/a99e6369-9795-417e-9a1c-31ea91/bQw1ZrmZ-2/Payloads.svg\">\\n<br/>\\n<img src=\"https://healthchecks.io/badge/a99e6369-9795-417e-9a1c-31ea91/HhIoHcF6-2/Roadster.svg\">\\n<br/>\\n<img src=\"https://healthchecks.io/badge/a99e6369-9795-417e-9a1c-31ea91/wPz7gFQJ-2/Starlink.svg\">\\n<br/>\\n<img src=\"https://healthchecks.io/badge/a99e6369-9795-417e-9a1c-31ea91/3L5HxZKX-2/Upcoming-Launches.svg\">\\n<br/>\\n<img src=\"https://healthchecks.io/badge/a99e6369-9795-417e-9a1c-31ea91/YvnZYkED-2/Webcast.svg\">\\n<br/>\\n<img src=\"https://healthchecks.io/badge/a99e6369-9795-417e-9a1c-31ea91/_Z-lNpev-2/launch-library-v2.svg\">\\n</p>\\n\\n## Sponsors\\n\\n### [Studio 3T](https://studio3t.com/)\\n\\n[![Studio 3T](https://imgur.com/DbJSfAo.png)](https://studio3t.com/)\\n\\n## FAQ\\'s\\n\\n* If you have any questions or corrections, please open an issue and we\\'ll get it merged ASAP\\n* For any other questions or concerns, just shoot me an email.\\n'}]"
      ]
     },
     "execution_count": 2,
     "metadata": {},
     "output_type": "execute_result"
    }
   ],
   "source": [
    "acquire.scrape_github_data()"
   ]
  },
  {
   "cell_type": "code",
   "execution_count": 127,
   "metadata": {},
   "outputs": [
    {
     "data": {
      "text/plain": [
       "{'id': 94811188,\n",
       " 'node_id': 'MDEwOlJlcG9zaXRvcnk5NDgxMTE4OA==',\n",
       " 'name': 'SpaceX-API',\n",
       " 'full_name': 'r-spacex/SpaceX-API',\n",
       " 'private': False,\n",
       " 'owner': {'login': 'r-spacex',\n",
       "  'id': 29695396,\n",
       "  'node_id': 'MDEyOk9yZ2FuaXphdGlvbjI5Njk1Mzk2',\n",
       "  'avatar_url': 'https://avatars.githubusercontent.com/u/29695396?v=4',\n",
       "  'gravatar_id': '',\n",
       "  'url': 'https://api.github.com/users/r-spacex',\n",
       "  'html_url': 'https://github.com/r-spacex',\n",
       "  'followers_url': 'https://api.github.com/users/r-spacex/followers',\n",
       "  'following_url': 'https://api.github.com/users/r-spacex/following{/other_user}',\n",
       "  'gists_url': 'https://api.github.com/users/r-spacex/gists{/gist_id}',\n",
       "  'starred_url': 'https://api.github.com/users/r-spacex/starred{/owner}{/repo}',\n",
       "  'subscriptions_url': 'https://api.github.com/users/r-spacex/subscriptions',\n",
       "  'organizations_url': 'https://api.github.com/users/r-spacex/orgs',\n",
       "  'repos_url': 'https://api.github.com/users/r-spacex/repos',\n",
       "  'events_url': 'https://api.github.com/users/r-spacex/events{/privacy}',\n",
       "  'received_events_url': 'https://api.github.com/users/r-spacex/received_events',\n",
       "  'type': 'Organization',\n",
       "  'site_admin': False},\n",
       " 'html_url': 'https://github.com/r-spacex/SpaceX-API',\n",
       " 'description': ':rocket: Open Source REST API for SpaceX launch, rocket, core, capsule, starlink, launchpad, and landing pad data.',\n",
       " 'fork': False,\n",
       " 'url': 'https://api.github.com/repos/r-spacex/SpaceX-API',\n",
       " 'forks_url': 'https://api.github.com/repos/r-spacex/SpaceX-API/forks',\n",
       " 'keys_url': 'https://api.github.com/repos/r-spacex/SpaceX-API/keys{/key_id}',\n",
       " 'collaborators_url': 'https://api.github.com/repos/r-spacex/SpaceX-API/collaborators{/collaborator}',\n",
       " 'teams_url': 'https://api.github.com/repos/r-spacex/SpaceX-API/teams',\n",
       " 'hooks_url': 'https://api.github.com/repos/r-spacex/SpaceX-API/hooks',\n",
       " 'issue_events_url': 'https://api.github.com/repos/r-spacex/SpaceX-API/issues/events{/number}',\n",
       " 'events_url': 'https://api.github.com/repos/r-spacex/SpaceX-API/events',\n",
       " 'assignees_url': 'https://api.github.com/repos/r-spacex/SpaceX-API/assignees{/user}',\n",
       " 'branches_url': 'https://api.github.com/repos/r-spacex/SpaceX-API/branches{/branch}',\n",
       " 'tags_url': 'https://api.github.com/repos/r-spacex/SpaceX-API/tags',\n",
       " 'blobs_url': 'https://api.github.com/repos/r-spacex/SpaceX-API/git/blobs{/sha}',\n",
       " 'git_tags_url': 'https://api.github.com/repos/r-spacex/SpaceX-API/git/tags{/sha}',\n",
       " 'git_refs_url': 'https://api.github.com/repos/r-spacex/SpaceX-API/git/refs{/sha}',\n",
       " 'trees_url': 'https://api.github.com/repos/r-spacex/SpaceX-API/git/trees{/sha}',\n",
       " 'statuses_url': 'https://api.github.com/repos/r-spacex/SpaceX-API/statuses/{sha}',\n",
       " 'languages_url': 'https://api.github.com/repos/r-spacex/SpaceX-API/languages',\n",
       " 'stargazers_url': 'https://api.github.com/repos/r-spacex/SpaceX-API/stargazers',\n",
       " 'contributors_url': 'https://api.github.com/repos/r-spacex/SpaceX-API/contributors',\n",
       " 'subscribers_url': 'https://api.github.com/repos/r-spacex/SpaceX-API/subscribers',\n",
       " 'subscription_url': 'https://api.github.com/repos/r-spacex/SpaceX-API/subscription',\n",
       " 'commits_url': 'https://api.github.com/repos/r-spacex/SpaceX-API/commits{/sha}',\n",
       " 'git_commits_url': 'https://api.github.com/repos/r-spacex/SpaceX-API/git/commits{/sha}',\n",
       " 'comments_url': 'https://api.github.com/repos/r-spacex/SpaceX-API/comments{/number}',\n",
       " 'issue_comment_url': 'https://api.github.com/repos/r-spacex/SpaceX-API/issues/comments{/number}',\n",
       " 'contents_url': 'https://api.github.com/repos/r-spacex/SpaceX-API/contents/{+path}',\n",
       " 'compare_url': 'https://api.github.com/repos/r-spacex/SpaceX-API/compare/{base}...{head}',\n",
       " 'merges_url': 'https://api.github.com/repos/r-spacex/SpaceX-API/merges',\n",
       " 'archive_url': 'https://api.github.com/repos/r-spacex/SpaceX-API/{archive_format}{/ref}',\n",
       " 'downloads_url': 'https://api.github.com/repos/r-spacex/SpaceX-API/downloads',\n",
       " 'issues_url': 'https://api.github.com/repos/r-spacex/SpaceX-API/issues{/number}',\n",
       " 'pulls_url': 'https://api.github.com/repos/r-spacex/SpaceX-API/pulls{/number}',\n",
       " 'milestones_url': 'https://api.github.com/repos/r-spacex/SpaceX-API/milestones{/number}',\n",
       " 'notifications_url': 'https://api.github.com/repos/r-spacex/SpaceX-API/notifications{?since,all,participating}',\n",
       " 'labels_url': 'https://api.github.com/repos/r-spacex/SpaceX-API/labels{/name}',\n",
       " 'releases_url': 'https://api.github.com/repos/r-spacex/SpaceX-API/releases{/id}',\n",
       " 'deployments_url': 'https://api.github.com/repos/r-spacex/SpaceX-API/deployments',\n",
       " 'created_at': '2017-06-19T19:04:23Z',\n",
       " 'updated_at': '2021-05-07T13:48:56Z',\n",
       " 'pushed_at': '2021-05-07T11:14:12Z',\n",
       " 'git_url': 'git://github.com/r-spacex/SpaceX-API.git',\n",
       " 'ssh_url': 'git@github.com:r-spacex/SpaceX-API.git',\n",
       " 'clone_url': 'https://github.com/r-spacex/SpaceX-API.git',\n",
       " 'svn_url': 'https://github.com/r-spacex/SpaceX-API',\n",
       " 'homepage': '',\n",
       " 'size': 14618,\n",
       " 'stargazers_count': 8448,\n",
       " 'watchers_count': 8448,\n",
       " 'language': 'JavaScript',\n",
       " 'has_issues': True,\n",
       " 'has_projects': False,\n",
       " 'has_downloads': True,\n",
       " 'has_wiki': False,\n",
       " 'has_pages': False,\n",
       " 'forks_count': 656,\n",
       " 'mirror_url': None,\n",
       " 'archived': False,\n",
       " 'disabled': False,\n",
       " 'open_issues_count': 31,\n",
       " 'license': {'key': 'apache-2.0',\n",
       "  'name': 'Apache License 2.0',\n",
       "  'spdx_id': 'Apache-2.0',\n",
       "  'url': 'https://api.github.com/licenses/apache-2.0',\n",
       "  'node_id': 'MDc6TGljZW5zZTI='},\n",
       " 'forks': 656,\n",
       " 'open_issues': 31,\n",
       " 'watchers': 8448,\n",
       " 'default_branch': 'master',\n",
       " 'permissions': {'admin': False, 'push': False, 'pull': True},\n",
       " 'score': 1.0}"
      ]
     },
     "execution_count": 127,
     "metadata": {},
     "output_type": "execute_result"
    }
   ],
   "source": [
    "# These are the headers from Zach's acquire module, so you will have to finish the TODOs there before this works\n",
    "headers = acquire.headers\n",
    "# Visit https://docs.github.com/en/rest/reference/search#search-repositories for more information on the different parameters\n",
    "endpoint = \"https://api.github.com/search/repositories\"\n",
    "query = \"SpaceX in:name\"\n",
    "sort = \"stars\"\n",
    "per_page = 1000\n",
    "order = \"desc\"\n",
    "page = 1\n",
    "response = requests.get(f\"{endpoint}?q={query}&sort={sort}&per_page={per_page}&order={order}&page={page}\", headers=headers)\n",
    "payload = response.json()\n",
    "payload['items'][0]"
   ]
  },
  {
   "cell_type": "code",
   "execution_count": null,
   "metadata": {},
   "outputs": [],
   "source": [
    "'svn_url': 'https://github.com/r-spacex/SpaceX-API',"
   ]
  },
  {
   "cell_type": "code",
   "execution_count": null,
   "metadata": {},
   "outputs": [],
   "source": []
  }
 ],
 "metadata": {
  "kernelspec": {
   "display_name": "Python 3",
   "language": "python",
   "name": "python3"
  },
  "language_info": {
   "codemirror_mode": {
    "name": "ipython",
    "version": 3
   },
   "file_extension": ".py",
   "mimetype": "text/x-python",
   "name": "python",
   "nbconvert_exporter": "python",
   "pygments_lexer": "ipython3",
   "version": "3.8.5"
  }
 },
 "nbformat": 4,
 "nbformat_minor": 4
}
