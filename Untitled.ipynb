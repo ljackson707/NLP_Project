{
 "cells": [
  {
   "cell_type": "code",
   "execution_count": 10,
   "metadata": {},
   "outputs": [],
   "source": [
    "import os\n",
    "import json\n",
    "from typing import Dict, List, Optional, Union, cast\n",
    "import requests\n",
    "import acquire\n",
    "from requests import get\n",
    "import bs4"
   ]
  },
  {
   "cell_type": "code",
   "execution_count": 11,
   "metadata": {},
   "outputs": [],
   "source": [
    "url = 'https://github.com/search?p=1&q=SpaceX&type=Repositories'"
   ]
  },
  {
   "cell_type": "code",
   "execution_count": 12,
   "metadata": {},
   "outputs": [],
   "source": [
    "page = requests.get(url)\n",
    "\n",
    "# Create a BeautifulSoup object\n",
    "soup = BeautifulSoup(page.text, 'html.parser')\n",
    "\n",
    "# get the repo list\n",
    "repo = soup.find(class_=\"repo-list\")"
   ]
  },
  {
   "cell_type": "code",
   "execution_count": 32,
   "metadata": {},
   "outputs": [],
   "source": [
    "# find all instances of that class (should return 25 as shown in the github main page)\n",
    "repo_list = repo.find_all(class_='repo-list-item hx_hit-repo d-flex flex-justify-start py-4 public source')"
   ]
  },
  {
   "cell_type": "code",
   "execution_count": 36,
   "metadata": {},
   "outputs": [],
   "source": [
    "import csv"
   ]
  },
  {
   "cell_type": "code",
   "execution_count": 37,
   "metadata": {},
   "outputs": [],
   "source": [
    "# Open writer with name\n",
    "file_name = \"github_trending_today.csv\"\n",
    "# set newline to be '' so that that new rows are appended without skipping any\n",
    "f = csv.writer(open(file_name, 'w', newline=''))"
   ]
  },
  {
   "cell_type": "code",
   "execution_count": 38,
   "metadata": {},
   "outputs": [
    {
     "data": {
      "text/plain": [
       "37"
      ]
     },
     "execution_count": 38,
     "metadata": {},
     "output_type": "execute_result"
    }
   ],
   "source": [
    "# write a new row as a header\n",
    "f.writerow(['Developer', 'Repo Name', 'Number of Stars'])"
   ]
  },
  {
   "cell_type": "code",
   "execution_count": 51,
   "metadata": {},
   "outputs": [
    {
     "name": "stdout",
     "output_type": "stream",
     "text": [
      "'r-spacex/SpaceX-API'\n",
      "'jesusrp98/spacex-go'\n",
      "'bradtraversy/spacex_launch_stats'\n",
      "'r-spacex/spacexstats-react'\n",
      "'arjunyel/angular-spacex-graphql-codegen'\n",
      "'llSourcell/Landing-a-SpaceX-Falcon-Heavy-Rocket'\n",
      "'EmbersArc/gym-rocketlander'\n",
      "'haroldadmin/MoonShot'\n",
      "'shahar603/SpaceXtract'\n",
      "'treyhuffine/graphql-react-typescript-spacex'\n"
     ]
    }
   ],
   "source": [
    "for repo in repo_list:\n",
    "    # find the first <a> tag and get the text. Split the text using '/' to get an array with developer name and repo name\n",
    "    full_repo_name = repo.find('a').text.split('/')\n",
    "    # extract the developer name at index 0\n",
    "    developer = full_repo_name[0].strip()\n",
    "    # extract the repo name at index 1\n",
    "    repo_name = full_repo_name[1].strip()\n",
    "    # find the first occurance of class octicon octicon-star and get the text from the parent (which is the number of stars)\n",
    "    stars = repo.find(class_='octicon octicon-star').parent.text.strip()\n",
    "    # strip() all to remove leading and traling white spaces\n",
    "   \n",
    "    print(\"'\" + developer + \"/\" + repo_name + \"'\")\n",
    "\n",
    "    # add the information as a row into the csv table\n",
    "    f.writerow([developer, repo_name, stars])"
   ]
  },
  {
   "cell_type": "code",
   "execution_count": null,
   "metadata": {},
   "outputs": [],
   "source": []
  }
 ],
 "metadata": {
  "kernelspec": {
   "display_name": "Python 3",
   "language": "python",
   "name": "python3"
  },
  "language_info": {
   "codemirror_mode": {
    "name": "ipython",
    "version": 3
   },
   "file_extension": ".py",
   "mimetype": "text/x-python",
   "name": "python",
   "nbconvert_exporter": "python",
   "pygments_lexer": "ipython3",
   "version": "3.8.5"
  }
 },
 "nbformat": 4,
 "nbformat_minor": 4
}
